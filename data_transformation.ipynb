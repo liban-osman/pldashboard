{
 "cells": [
  {
   "cell_type": "code",
   "execution_count": 1,
   "metadata": {},
   "outputs": [],
   "source": [
    "import pandas as pd"
   ]
  },
  {
   "cell_type": "code",
   "execution_count": 74,
   "metadata": {},
   "outputs": [],
   "source": [
    "players= pd.read_csv('data/players.csv')\n",
    "shots= pd.read_csv('data/player_shots.csv')\n",
    "league_table= pd.read_csv('data/league_table.csv')\n",
    "matches= pd.read_csv('data/matches.csv')\n",
    "team_logos = pd.read_csv('data/team_logos.csv')"
   ]
  },
  {
   "cell_type": "code",
   "execution_count": 86,
   "metadata": {},
   "outputs": [],
   "source": [
    "team_data = league_table.merge(team_logos, left_on=\"Team\", right_on=\"team\")\n",
    "team_data = team_data.rename(columns={\n",
    "    \"M\":\"Matches Played\",\n",
    "    \"W\":\"Wins\",\n",
    "    \"L\":\"Losses\",\n",
    "    \"D\": \"Draws\",\n",
    "    \"G\":\"Goals\",\n",
    "    \"GA\":\"Goals Against\",\n",
    "    \"PTS\":\"Points\",\n",
    "    \"xPTS\":\"xPoints\"\n",
    "})\n",
    "\n",
    "team_data.to_csv('data/team_data.csv', index=False)"
   ]
  },
  {
   "cell_type": "code",
   "execution_count": null,
   "metadata": {},
   "outputs": [],
   "source": []
  }
 ],
 "metadata": {
  "kernelspec": {
   "display_name": "Python 3",
   "language": "python",
   "name": "python3"
  },
  "language_info": {
   "codemirror_mode": {
    "name": "ipython",
    "version": 3
   },
   "file_extension": ".py",
   "mimetype": "text/x-python",
   "name": "python",
   "nbconvert_exporter": "python",
   "pygments_lexer": "ipython3",
   "version": "3.10.0"
  }
 },
 "nbformat": 4,
 "nbformat_minor": 2
}
